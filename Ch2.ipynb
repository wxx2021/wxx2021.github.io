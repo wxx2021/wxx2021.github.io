{
 "cells": [
  {
   "cell_type": "markdown",
   "id": "8c27dcc1-99d1-4e51-81e4-3014abcb9444",
   "metadata": {
    "editable": true,
    "slideshow": {
     "slide_type": "slide"
    },
    "tags": []
   },
   "source": [
    "# <font face=\"华文中宋\"><b>2.1 Python 基础</b></font>\n",
    "## <font face=\"华文中宋\"><b>Wenxiu XIE</b></font>"
   ]
  },
  {
   "cell_type": "markdown",
   "id": "b5e939d8-5df0-4a3d-be62-4d1a86d0442d",
   "metadata": {
    "editable": true,
    "slideshow": {
     "slide_type": "slide"
    },
    "tags": []
   },
   "source": [
    "# <font face=\"华文中宋\"><b>教学内容</b></font>\n",
    "<p style=\"line-height: 2;\"><font size=\"6\" face=\"华文中宋\">\n",
    "1. <b>为什么选择Python?</b><br>\n",
    "2. Python基础及数据结构<br>\n",
    "3. Control structures (conditional and loops)<br>\n",
    "4. Functions, Classes<br>\n",
    "5. File IO, Pickle, pandas<br>\n",
    "6. NumPy<br>\n",
    "7. matplotlib<br>\n",
    "</font> </p>"
   ]
  },
  {
   "cell_type": "markdown",
   "id": "f500bc0f-0b89-4741-8b60-5fe367a83f5f",
   "metadata": {
    "editable": true,
    "slideshow": {
     "slide_type": "slide"
    },
    "tags": []
   },
   "source": [
    "## <font face=\"华文中宋\"><b>为什么选择Python?</b></font>\n",
    "<p style=\"line-height: 2;\"><font size=\"5\" face=\"华文中宋\">\n",
    "<b>已有学生成绩的excel文件，求学生成绩的平均分，最高分和最低分。python实现：</b>\n",
    "</font> </p>"
   ]
  },
  {
   "cell_type": "code",
   "execution_count": 2,
   "id": "d2e00946-a97d-4e4a-9292-55a4ecdbe882",
   "metadata": {
    "editable": true,
    "slideshow": {
     "slide_type": "fragment"
    },
    "tags": []
   },
   "outputs": [
    {
     "data": {
      "text/html": [
       "<div>\n",
       "<style scoped>\n",
       "    .dataframe tbody tr th:only-of-type {\n",
       "        vertical-align: middle;\n",
       "    }\n",
       "\n",
       "    .dataframe tbody tr th {\n",
       "        vertical-align: top;\n",
       "    }\n",
       "\n",
       "    .dataframe thead th {\n",
       "        text-align: right;\n",
       "    }\n",
       "</style>\n",
       "<table border=\"1\" class=\"dataframe\">\n",
       "  <thead>\n",
       "    <tr style=\"text-align: right;\">\n",
       "      <th></th>\n",
       "      <th>学号</th>\n",
       "      <th>姓名</th>\n",
       "      <th>课程</th>\n",
       "      <th>成绩</th>\n",
       "    </tr>\n",
       "  </thead>\n",
       "  <tbody>\n",
       "    <tr>\n",
       "      <th>0</th>\n",
       "      <td>1</td>\n",
       "      <td>李一</td>\n",
       "      <td>ML</td>\n",
       "      <td>77</td>\n",
       "    </tr>\n",
       "    <tr>\n",
       "      <th>1</th>\n",
       "      <td>2</td>\n",
       "      <td>李二</td>\n",
       "      <td>ML</td>\n",
       "      <td>68</td>\n",
       "    </tr>\n",
       "    <tr>\n",
       "      <th>2</th>\n",
       "      <td>3</td>\n",
       "      <td>李三</td>\n",
       "      <td>ML</td>\n",
       "      <td>64</td>\n",
       "    </tr>\n",
       "    <tr>\n",
       "      <th>3</th>\n",
       "      <td>4</td>\n",
       "      <td>李四</td>\n",
       "      <td>ML</td>\n",
       "      <td>87</td>\n",
       "    </tr>\n",
       "    <tr>\n",
       "      <th>4</th>\n",
       "      <td>5</td>\n",
       "      <td>张一</td>\n",
       "      <td>ML</td>\n",
       "      <td>78</td>\n",
       "    </tr>\n",
       "  </tbody>\n",
       "</table>\n",
       "</div>"
      ],
      "text/plain": [
       "   学号  姓名  课程  成绩\n",
       "0   1  李一  ML  77\n",
       "1   2  李二  ML  68\n",
       "2   3  李三  ML  64\n",
       "3   4  李四  ML  87\n",
       "4   5  张一  ML  78"
      ]
     },
     "execution_count": 2,
     "metadata": {},
     "output_type": "execute_result"
    }
   ],
   "source": [
    "import pandas as pd #导入所使用的库\n",
    "data = pd.read_excel(r'.\\data\\grade.xlsx')\n",
    "data.head() #数据示例"
   ]
  },
  {
   "cell_type": "code",
   "execution_count": 4,
   "id": "dd8087d0-af38-46da-868e-065dea2cde6d",
   "metadata": {
    "editable": true,
    "slideshow": {
     "slide_type": "fragment"
    },
    "tags": []
   },
   "outputs": [
    {
     "name": "stdout",
     "output_type": "stream",
     "text": [
      "最高分： 92 \t 最低分： 63\n",
      "平均分： 75.6\n"
     ]
    }
   ],
   "source": [
    "print('最高分：', data['成绩'].max(),'\\t', '最低分：', data['成绩'].min())\n",
    "print('平均分：', data['成绩'].mean())"
   ]
  },
  {
   "cell_type": "markdown",
   "id": "1af86c4b-d409-4cc3-8b57-7bdb32678acf",
   "metadata": {
    "editable": true,
    "slideshow": {
     "slide_type": "slide"
    },
    "tags": []
   },
   "source": [
    "## <font face=\"华文中宋\"><b>为什么选择Python?</b></font>\n",
    "<p style=\"line-height: 2;\"><font size=\"5\" face=\"华文中宋\">\n",
    "<b>已有学生成绩的excel文件，求学生成绩的平均分，最高分和最低分。python函数实现：</b>\n",
    "</font> </p>"
   ]
  },
  {
   "cell_type": "code",
   "execution_count": 6,
   "id": "8486035f-af82-48f0-8d63-1f33466fd8d7",
   "metadata": {
    "editable": true,
    "slideshow": {
     "slide_type": ""
    },
    "tags": []
   },
   "outputs": [
    {
     "name": "stdout",
     "output_type": "stream",
     "text": [
      "最高分： 92 \t 最低分： 63\n",
      "平均分： 75.6\n"
     ]
    }
   ],
   "source": [
    "#import pandas as pd #导入所使用的库\n",
    "def get_score(filepath):\n",
    "    data = pd.read_excel(filepath) #使用缩进来表示代码块，不需要使用大括号{}\n",
    "    return data['成绩'].max(), data['成绩'].min(),data['成绩'].mean() #返回\n",
    "\n",
    "score_max, score_min, score_mean = get_score(r'.\\data\\grade.xlsx') #调用函数\n",
    "print('最高分：', score_max, '\\t','最低分：',score_min)\n",
    "print('平均分：', score_mean)"
   ]
  },
  {
   "cell_type": "markdown",
   "id": "490157af-bd08-4c61-8a6f-3096ecbc789e",
   "metadata": {
    "editable": true,
    "slideshow": {
     "slide_type": "slide"
    },
    "tags": []
   },
   "source": [
    "# <font face=\"华文中宋\"><b>教学内容</b></font>\n",
    "<p style=\"line-height: 2;\"><font size=\"6\" face=\"华文中宋\">\n",
    "1. 为什么选择Python?<br>\n",
    "2. <b>Python基础及数据结构</b><br>\n",
    "3. Control structures (conditional and loops)<br>\n",
    "4. Functions, Classes<br>\n",
    "5. File IO, Pickle, pandas<br>\n",
    "6. NumPy<br>\n",
    "7. matplotlib<br>\n",
    "</font> </p>"
   ]
  },
  {
   "cell_type": "markdown",
   "id": "b4722672-cdc6-44a4-86bf-da39bfc5e2c1",
   "metadata": {
    "editable": true,
    "slideshow": {
     "slide_type": "slide"
    },
    "tags": []
   },
   "source": [
    "## <font face=\"华文中宋\"><b>2.1 Python 基础</b></font>\n",
    "<p style=\"line-height: 1.6;\"><font size=\"5\" face=\"华文中宋\"><b>\n",
    "Python是一个结合了解释性、编译性、互动性和面向对象的高级程序设计语言。其结构简单，语法定义清晰。Python最具特色的就是<mark>使用缩进</mark>来表示代码块，不需要使用大括号{}。\n",
    "</font> </p>"
   ]
  },
  {
   "cell_type": "code",
   "execution_count": 2,
   "id": "56c98a04-1164-4f2b-b2dc-16b65ebcd8ef",
   "metadata": {
    "editable": true,
    "slideshow": {
     "slide_type": "fragment"
    },
    "tags": []
   },
   "outputs": [
    {
     "name": "stdout",
     "output_type": "stream",
     "text": [
      "你好\n",
      "你好，李一\n"
     ]
    }
   ],
   "source": [
    "# 这是注释\n",
    "x=1       # 注释\n",
    "y=2; z=3  # 注释\n",
    "\n",
    "print(\"你好\")\n",
    "name = \"李一\"\n",
    "if name == \"李一\":\n",
    "    print(\"你好，李一\")\n",
    "else:\n",
    "    print(\"请输入姓名：\")"
   ]
  },
  {
   "cell_type": "markdown",
   "id": "655c40b8-5401-49ce-a4fb-3713f8388e35",
   "metadata": {
    "editable": true,
    "slideshow": {
     "slide_type": "slide"
    },
    "tags": []
   },
   "source": [
    "## <font face=\"华文中宋\"><b>2.1 Python 基础</b></font>\n",
    "<p style=\"line-height: 1.6;\"><font size=\"5\" face=\"华文中宋\"><b>\n",
    "Python3 中有六种标准的数据类型：Number（数字）、String（字符串）、List（列表）、Tuple（元组）、Set（集合）和Dictionary（字典）。其中，不可变数据类型有Number、String和Tuple；可变数据类型有List、Dictionary和Set。\n",
    "<br><br>\n",
    "Python中的变量是<mark>不需要声明数据类型的</mark>，变量的“类型”是所指的内存中被赋值对象的类型。<mark>同一变量可以反复赋值，而且可以是不同类型的变量</mark>。</b></font> </p>"
   ]
  },
  {
   "cell_type": "markdown",
   "id": "fb908358-ae0e-4cc3-86d9-f5ae108dfe54",
   "metadata": {
    "editable": true,
    "slideshow": {
     "slide_type": "slide"
    },
    "tags": []
   },
   "source": [
    "## <font face=\"华文中宋\"><b>数据类型</b><br><br></font>"
   ]
  },
  {
   "cell_type": "code",
   "execution_count": 16,
   "id": "e9a5c350-8400-4174-852a-d4b4c27e52f0",
   "metadata": {
    "editable": true,
    "slideshow": {
     "slide_type": "fragment"
    },
    "tags": []
   },
   "outputs": [
    {
     "name": "stdout",
     "output_type": "stream",
     "text": [
      "10\n",
      "10.0\n"
     ]
    }
   ],
   "source": [
    "x = 10 #Number（数字）\n",
    "print(x)\n",
    "x = 10.0\n",
    "print(x)"
   ]
  },
  {
   "cell_type": "markdown",
   "id": "db34d235-5430-49ac-9885-57c6f1a853e5",
   "metadata": {
    "editable": true,
    "slideshow": {
     "slide_type": "slide"
    },
    "tags": []
   },
   "source": [
    "## <font face=\"华文中宋\"><b>String（字符串）</b></font>\n",
    "<p style=\"line-height: 1.6;\"><font size=\"5\" face=\"华文中宋\"><b>\n",
    "    字符串被定义为引号之间的字符集合，在Python中，字符串用<mark>单引号(')</mark>, <mark>双引号(\")</mark>, <mark>三引号(''')</mark>括起来。当Python字符串中有一个反斜杠时表示一个转义序列的开始，称反斜杠为转义符。\n",
    "</b></font> </p>"
   ]
  },
  {
   "cell_type": "code",
   "execution_count": 7,
   "id": "545152e8-d3b7-48f4-b780-31c2d11c08b6",
   "metadata": {
    "editable": true,
    "slideshow": {
     "slide_type": "fragment"
    },
    "tags": []
   },
   "outputs": [
    {
     "name": "stdout",
     "output_type": "stream",
     "text": [
      "abcdefg\n",
      "abcdefg\n",
      "abcdefghijklmn\n",
      "abc\tdefg\n",
      "abc\\tdefg\n"
     ]
    }
   ],
   "source": [
    "x = 'abcdefg' #String（字符串）\n",
    "print(x)\n",
    "x = \"abcdefg\"\n",
    "print(x)\n",
    "x = '''abcdefghijklmn'''\n",
    "print(x)\n",
    "x = 'abc\\tdefg'\n",
    "print(x)\n",
    "x = 'abc\\\\tdefg'\n",
    "print(x)"
   ]
  },
  {
   "cell_type": "markdown",
   "id": "90d057da-9d3a-465b-b267-e371d31b98f1",
   "metadata": {
    "editable": true,
    "slideshow": {
     "slide_type": "slide"
    },
    "tags": []
   },
   "source": [
    "## <font face=\"华文中宋\"><b>String（字符串）</b></font>\n",
    "<p style=\"line-height: 1.6;\"><font size=\"5\" face=\"华文中宋\"><b>\n",
    "    Python特有的索引规则为：第一个字符的索引是<mark>0</mark>，后续字符索引依次递增，或者从右向左编号，最后一个字符的索引号为<mark>-1</mark>，前面的字符依次减1，主要运算+, *, 和切片。\n",
    "</b></font> </p>"
   ]
  },
  {
   "cell_type": "code",
   "execution_count": 18,
   "id": "3657df95-5a78-495c-9ec2-0123739fac97",
   "metadata": {
    "editable": true,
    "slideshow": {
     "slide_type": "fragment"
    },
    "tags": []
   },
   "outputs": [
    {
     "name": "stdout",
     "output_type": "stream",
     "text": [
      "a \t g\n",
      "abcdefg----------\n",
      "abcdefgabcdefg\n",
      "cde \t cdefg \t abcd\n"
     ]
    }
   ],
   "source": [
    "x = 'abcdefg'\n",
    "print(x[0],'\\t',x[-1])#索引\n",
    "print(x+'----------') #运算+，连接操作\n",
    "print(x*2) #运算*，重复操作\n",
    "print(x[2:5],'\\t',x[2:],'\\t',x[:4]) #切片"
   ]
  },
  {
   "cell_type": "markdown",
   "id": "1998fb1c-4861-4a66-b4fd-2a611c4708fe",
   "metadata": {
    "editable": true,
    "slideshow": {
     "slide_type": "slide"
    },
    "tags": []
   },
   "source": [
    "## <font face=\"华文中宋\"><b>列表List</b></font>\n",
    "> <p style=\"line-height: 1.6;\"><font size=\"5\" face=\"华文中宋\"><b>在Python中，最基本的数据结构是序列。序列中的成员有序排列，可以通过下标偏移量访问到它的一个或几个成员。除了前面已经介绍过的字符串，最常见的序列是列表和元组。</b></font> </p>\n",
    "> 在Python中，最基本的数据结构是序列。序列中的成员有序排列，可以通过下标偏移量访问到它的一个或几个成员。除了前面已经介绍过的字符串，最常见的序列是列表和元组。"
   ]
  },
  {
   "cell_type": "code",
   "execution_count": null,
   "id": "3c1eb8be-3a1f-4791-ba4e-072f324440af",
   "metadata": {
    "editable": true,
    "slideshow": {
     "slide_type": "fragment"
    },
    "tags": []
   },
   "outputs": [],
   "source": [
    "x=[1,2,3,4,5] #列表\n",
    "print(x)\n",
    "x = ['abcd', 786, 2.23]\n",
    "print(x)\n",
    "x2 = range(10)   # 创建一个list，数字从0到9\n",
    "print(x2)\n",
    "x2 = list(range(10) )\n",
    "print(x2)\n",
    "x2.append('xxxxxxxxxxx')\n",
    "print(x2)\n",
    "x2.pop()\n",
    "print(x2)"
   ]
  },
  {
   "cell_type": "code",
   "execution_count": null,
   "id": "118bc545-f5b7-4139-b637-1f35735dfde3",
   "metadata": {
    "editable": true,
    "slideshow": {
     "slide_type": "slide"
    },
    "tags": []
   },
   "outputs": [],
   "source": [
    "\n",
    "x = ('姓名','李一') #元组\n",
    "print(x, x[0], x[1])\n",
    "x = set([1,2,3,3,3,5])#集合\n",
    "print(x)\n",
    "x = {'学号': '2025001', '姓名':'李一', '成绩':77}\n",
    "print(x,x.keys(),x.values())"
   ]
  },
  {
   "cell_type": "code",
   "execution_count": null,
   "id": "dc1131e6-fe84-4a5a-ba62-8a363ef5bdb6",
   "metadata": {
    "editable": true,
    "slideshow": {
     "slide_type": "notes"
    },
    "tags": []
   },
   "outputs": [],
   "source": []
  }
 ],
 "metadata": {
  "kernelspec": {
   "display_name": "Python 3 (ipykernel)",
   "language": "python",
   "name": "python3"
  },
  "language_info": {
   "codemirror_mode": {
    "name": "ipython",
    "version": 3
   },
   "file_extension": ".py",
   "mimetype": "text/x-python",
   "name": "python",
   "nbconvert_exporter": "python",
   "pygments_lexer": "ipython3",
   "version": "3.9.17"
  }
 },
 "nbformat": 4,
 "nbformat_minor": 5
}
